{
 "cells": [
  {
   "cell_type": "code",
   "execution_count": 32,
   "id": "bdea5926-95ac-477b-8bd2-231041f2937d",
   "metadata": {},
   "outputs": [],
   "source": [
    "from PIL import Image\n",
    "import requests\n",
    "import torch\n",
    "from transformers import BlipProcessor, BlipForQuestionAnswering, DefaultDataCollator, TrainingArguments, Trainer\n",
    "from transformers import ViltProcessor, ViltForQuestionAnswering\n",
    "import requests\n",
    "from PIL import Image\n",
    "import torch\n",
    "import os\n",
    "from os import listdir\n",
    "from os.path import isfile, join\n",
    "import json\n",
    "from torch.utils.data import DataLoader\n",
    "from tqdm import tqdm\n",
    "from torch.utils.data import Dataset\n"
   ]
  },
  {
   "cell_type": "code",
   "execution_count": null,
   "id": "50330f3c-79e9-4e0b-91ed-960d9b3ac3b7",
   "metadata": {},
   "outputs": [],
   "source": [
    "from datasets import load_dataset\n",
    "dataset = load_dataset(\"json\", data_files=\"data/train.jsonl\", split=\"train\")\n",
    "\n",
    "questions = [item for item in dataset[\"question\"]]\n",
    "images = [\n",
    "        f\"data/train_fill_in_blank/train_fill_in_blank/{pid}/image.png\" for pid in dataset[\"pid\"]\n",
    "    ] \n",
    "answers = [item for item in dataset[\"answer\"]]\n",
    "\n",
    "# dataset = VQADataset(questions = questions,\n",
    "#                           answers = answers,\n",
    "#                           images = images,\n",
    "#                           processor=processor)\n",
    "batch_size = 16\n",
    "# train_dataloader = DataLoader(dataset, collate_fn=collate_fn, batch_size=batch_size, shuffle=False)"
   ]
  },
  {
   "cell_type": "code",
   "execution_count": null,
   "id": "9575ec26-4d0f-4f5a-b2f9-a306f0945a13",
   "metadata": {},
   "outputs": [],
   "source": [
    "batch = next(iter(train_dataloader))\n",
    "for k,v in batch.items():\n",
    "    print(k, v.shape)"
   ]
  },
  {
   "cell_type": "code",
   "execution_count": null,
   "id": "a9153335-5615-4444-a205-109b57acbe49",
   "metadata": {
    "scrolled": true
   },
   "outputs": [],
   "source": [
    "device = torch.device(\"cuda\" if torch.cuda.is_available() else \"cpu\")\n",
    "processor = BlipProcessor.from_pretrained(\"Salesforce/blip-vqa-base\", cache_dir=\"/home/congnguyen/drive/.cache/\")\n",
    "model = torch.load(\"./model/BLIP2/checkpoint_10\")\n",
    "model.to(device)\n",
    "model.eval()\n",
    "# prepare image + questio\n"
   ]
  },
  {
   "cell_type": "code",
   "execution_count": 33,
   "id": "34e72494-f2c9-4e7a-9aad-6a99a46e4cea",
   "metadata": {},
   "outputs": [],
   "source": [
    "eval_dir = os.path.abspath(\"data/test_data/test_data/\")\n",
    "eval_data = {}\n",
    "for it in listdir(eval_dir):\n",
    "    eval_data.update({it: []})\n",
    "    for f in listdir(join(eval_dir, it)):\n",
    "        file = join(eval_dir, it, f)\n",
    "        eval_data[it].append(file)\n",
    "\n",
    "def get_data(idx):\n",
    "    img_url = eval_data[idx][0]\n",
    "    text_url = eval_data[idx][1]\n",
    "    textf = open(text_url)\n",
    "    # returns JSON object as \n",
    "    # a dictionary\n",
    "    data = json.load(textf)\n",
    "    text = data[\"question\"]\n",
    "    if text == \"What number is shown?\":\n",
    "        image = Image.open(img_url).convert(\"L\")\n",
    "    else:\n",
    "        image = Image.open(img_url).convert(\"RGB\")\n",
    "    return image, text"
   ]
  },
  {
   "cell_type": "code",
   "execution_count": null,
   "id": "7ecaf1cf-860e-4fe9-ad8d-f1e4376d4560",
   "metadata": {},
   "outputs": [],
   "source": [
    "result = {}\n",
    "for id in eval_data:\n",
    "    image, text = get_data(id)\n",
    "    encoding = processor(image, text, return_tensors=\"pt\")\n",
    "    encoding.to(device)\n",
    "    # forward pass\n",
    "    # outputs = model(**encoding)\n",
    "    out = model.generate(**encoding, output_scores=True)\n",
    "    # logits = outputs.logits\n",
    "    # idx = logits.argmax(-1).item()\n",
    "    print(out.scores)\n",
    "    # out = processor.decode(out[0], skip_special_tokens=True).replace(\" \",\"\")\n",
    "    # result.update({id: out})"
   ]
  },
  {
   "cell_type": "code",
   "execution_count": null,
   "id": "b4b1a595-2562-477e-bc71-2e80873a12e9",
   "metadata": {
    "scrolled": true
   },
   "outputs": [],
   "source": [
    "## result"
   ]
  },
  {
   "cell_type": "code",
   "execution_count": null,
   "id": "444918be-9ae5-4143-9220-3a2f1232ebd9",
   "metadata": {},
   "outputs": [],
   "source": [
    "def write2csv(result, output='./results/blip5ep.csv'):\n",
    "    import csv\n",
    "    with open(output, 'w', newline='') as csvfile:\n",
    "        fieldnames = ['ID', 'Label']\n",
    "        writer = csv.DictWriter(csvfile, fieldnames=fieldnames)\n",
    "\n",
    "        writer.writeheader()\n",
    "        for idx in result:\n",
    "            writer.writerow({'ID': idx, 'Label': result[idx]})"
   ]
  },
  {
   "cell_type": "code",
   "execution_count": null,
   "id": "f0ca043c-609a-4384-9276-dc87f25028d0",
   "metadata": {},
   "outputs": [],
   "source": [
    "## write2csv(result)"
   ]
  },
  {
   "cell_type": "code",
   "execution_count": null,
   "id": "63f8413a-4976-427e-aee0-bf2a6436d193",
   "metadata": {},
   "outputs": [],
   "source": [
    "import csv\n",
    "def read_csv(filename):\n",
    "    file = open(filename)\n",
    "    csvreader = csv.reader(file)\n",
    "    header = []\n",
    "    header = next(csvreader)\n",
    "    results = {}\n",
    "    for row in csvreader:\n",
    "        results.update({row[0]: row[1]}) \n",
    "    return results"
   ]
  },
  {
   "cell_type": "code",
   "execution_count": null,
   "id": "a01ea43f-2f62-468a-8285-5c7ec727e5ad",
   "metadata": {},
   "outputs": [],
   "source": [
    "blip_result = read_csv(\"./results/blip5ep.csv\")\n",
    "bl20_result = read_csv(\"./results/bl20ep.csv\")"
   ]
  },
  {
   "cell_type": "code",
   "execution_count": null,
   "id": "7173aca2-e05e-4e49-a79f-635774e201f4",
   "metadata": {},
   "outputs": [],
   "source": [
    "## blip_result"
   ]
  },
  {
   "cell_type": "code",
   "execution_count": null,
   "id": "42c66eca-780f-4694-a994-6c6591cadf44",
   "metadata": {},
   "outputs": [],
   "source": [
    "count = 0\n",
    "all = 0 \n",
    "compares = {}\n",
    "false = {}\n",
    "for key in blip_result:\n",
    "    all += 1\n",
    "    if blip_result[key] == bl20_result[key]:\n",
    "        compares.update({key: blip_result[key]})\n",
    "        continue\n",
    "    else:\n",
    "        false.update({key: [blip_result[key], eval_data[key]]})\n",
    "        count += 1"
   ]
  },
  {
   "cell_type": "code",
   "execution_count": null,
   "id": "aedf6ffc-0fb5-4ef7-9aa2-8ed57e0a2b44",
   "metadata": {},
   "outputs": [],
   "source": [
    "# write2csv(compares, \"./results/false_id.csv\")"
   ]
  },
  {
   "cell_type": "code",
   "execution_count": null,
   "id": "0dd6e4ae-39cc-4e24-9dc0-68d39746994a",
   "metadata": {},
   "outputs": [],
   "source": [
    "# false"
   ]
  },
  {
   "cell_type": "code",
   "execution_count": null,
   "id": "1b05d660-b616-42a7-ba3a-19c338efa556",
   "metadata": {},
   "outputs": [],
   "source": [
    "import xlsxwriter\n",
    "\n",
    "\n",
    "# Create an new Excel file and add a worksheet.\n",
    "workbook = xlsxwriter.Workbook(\"./results/false_id.xlsx\")\n",
    "worksheet = workbook.add_worksheet()\n",
    "# Widen the first column to make the text clearer.\n",
    "worksheet.set_column(\"D:D\", 40)\n",
    "worksheet.set_column(\"E:E\", 40)\n",
    "\n",
    "count = 0\n",
    "for key in false:\n",
    "    # Insert an image.\n",
    "    text_url = eval_data[key][1]\n",
    "    textf = open(text_url)\n",
    "    data = json.load(textf)\n",
    "    text = data[\"question\"]\n",
    "    worksheet.set_row(count, 80)\n",
    "    worksheet.write(\"A\"+str(count), key)\n",
    "    worksheet.write(\"B\"+str(count), blip_result[key])\n",
    "    worksheet.write(\"C\"+str(count), bl20_result[key])\n",
    "    worksheet.write(\"D\"+str(count), text)\n",
    "    worksheet.insert_image(\"E\"+str(count), eval_data[key][0], {\"x_scale\": 0.5, \"y_scale\": 0.3})\n",
    "    count += 1\n",
    "    \n",
    "\n",
    "workbook.close()"
   ]
  },
  {
   "cell_type": "code",
   "execution_count": null,
   "id": "94a806ce-effd-4261-8d8c-c22f47d43bee",
   "metadata": {},
   "outputs": [],
   "source": [
    "## Training Data\n",
    "def statistic(data):\n",
    "    ques = {}\n",
    "    tag = [\"Move the ruler\", \"What is the area of the shape?\", \"How many shapes are\", \"How many\", \"What time\", \"Read the story.\", \"Fill in the blank to describe the model\", \"Use dice to measure\", \"Use paper clips\", \"What is the perimeter\", \"What number is shown?\"]\n",
    "    for q in data:\n",
    "        flag = False\n",
    "        for t in tag:\n",
    "            if t in q:\n",
    "                flag = True\n",
    "                if t not in ques:\n",
    "                    ques.update({t: 1})\n",
    "                else:\n",
    "                    ques[t] += 1\n",
    "                break\n",
    "        if flag == False:\n",
    "            print(q)\n",
    "            if q not in ques:\n",
    "                ques.update({q: 1})\n",
    "            else:\n",
    "                ques[t] += 1\n",
    "    return ques\n",
    "    \n",
    "ques = statistic(questions)\n",
    "sum = 0\n",
    "for q in ques:\n",
    "    sum += ques[q]\n",
    "print(sum)\n",
    "print(len(questions))"
   ]
  },
  {
   "cell_type": "code",
   "execution_count": null,
   "id": "56c7995c-a6f0-495a-9b6b-cf17d7877f93",
   "metadata": {},
   "outputs": [],
   "source": [
    "# ques"
   ]
  },
  {
   "cell_type": "code",
   "execution_count": null,
   "id": "8f7733be-16a7-4d10-9450-b6b8fbe81048",
   "metadata": {},
   "outputs": [],
   "source": [
    "unique_labels = list(set(answers))\n",
    "\n",
    "label2id = {label: idx for idx, label in enumerate(unique_labels)}\n",
    "id2label = {idx: label for label, idx in label2id.items()}"
   ]
  },
  {
   "cell_type": "code",
   "execution_count": null,
   "id": "c091361a-189a-483b-ad18-28413957922c",
   "metadata": {},
   "outputs": [],
   "source": [
    "# len(id2label)"
   ]
  },
  {
   "cell_type": "code",
   "execution_count": null,
   "id": "1d0fd532-5160-4d48-8585-35baf837e025",
   "metadata": {},
   "outputs": [],
   "source": [
    "ques_test = []\n",
    "for id in eval_data:\n",
    "    text_url = eval_data[id][1]\n",
    "    textf = open(text_url)\n",
    "    data = json.load(textf)\n",
    "    text = data[\"question\"]\n",
    "    ques_test.append(text)\n",
    "ques = statistic(ques_test)"
   ]
  },
  {
   "cell_type": "code",
   "execution_count": null,
   "id": "cc1199b3-ab84-4eb9-8cdd-1a4c16201ce7",
   "metadata": {},
   "outputs": [],
   "source": [
    "sum = 0\n",
    "for q in ques:\n",
    "    sum += ques[q]\n",
    "print(sum)\n",
    "print(len(ques_test))"
   ]
  },
  {
   "cell_type": "code",
   "execution_count": null,
   "id": "c4a20f48-359b-4131-a32f-98b9d5de9248",
   "metadata": {},
   "outputs": [],
   "source": [
    "false_test = []\n",
    "for key in false:\n",
    "    # Insert an image.\n",
    "    text_url = eval_data[key][1]\n",
    "    textf = open(text_url)\n",
    "    data = json.load(textf)\n",
    "    text = data[\"question\"]\n",
    "    false_test.append(text)"
   ]
  },
  {
   "cell_type": "code",
   "execution_count": null,
   "id": "e48249be-82da-4b6f-bfca-8a46bd308ace",
   "metadata": {},
   "outputs": [],
   "source": [
    "ques = statistic(false_test)\n",
    "sum = 0\n",
    "for q in ques:\n",
    "    sum += ques[q]\n",
    "print(sum)\n",
    "print(len(false_test))"
   ]
  },
  {
   "cell_type": "code",
   "execution_count": null,
   "id": "72c70bbe-8bfc-40dd-ad33-d4069ced5981",
   "metadata": {},
   "outputs": [],
   "source": [
    "# ques"
   ]
  },
  {
   "cell_type": "code",
   "execution_count": null,
   "id": "93a0c0d4-4f31-4710-85e1-98582fbf0f7a",
   "metadata": {},
   "outputs": [],
   "source": [
    "import openpyxl\n",
    " \n",
    "# Define variable to load the dataframe\n",
    "dataframe = openpyxl.load_workbook(\"results/false_id.xlsx\")\n",
    " \n",
    "# Define variable to read sheet\n",
    "dataframe1 = dataframe.active\n",
    "\n",
    "true_id = {}\n",
    "# Iterate the loop to read the cell values\n",
    "for row in range(1, dataframe1.max_row):\n",
    "    # print(dataframe1.cell(row = row, column = 1).value, \", \", \n",
    "    #       dataframe1.cell(row = row, column = 7).value, \", \",\n",
    "    #       dataframe1.cell(row = row, column = 8).value)\n",
    "    if dataframe1.cell(row = row, column = 7).value is not None and dataframe1.cell(row = row, column = 8).value is not None:\n",
    "        value = dataframe1.cell(row = row, column = 8).value\n",
    "        de = value-int(value)\n",
    "        if de == 0:\n",
    "            value = str(int(value))\n",
    "            if len(value) == 4:\n",
    "                value = value[0]+\",\"+value[1::]\n",
    "        else:\n",
    "            value = str(value).replace(\".\", \",\")\n",
    "        true_id.update({dataframe1.cell(row = row, column = 1).value: value})\n"
   ]
  },
  {
   "cell_type": "markdown",
   "id": "07262a84-e0cf-4bdc-9c4f-46e79ca5ca24",
   "metadata": {
    "scrolled": true
   },
   "source": [
    "## "
   ]
  },
  {
   "cell_type": "code",
   "execution_count": null,
   "id": "cb06824f-5b48-47b5-aa5d-c5fdc9625c3b",
   "metadata": {},
   "outputs": [],
   "source": [
    "blip_result = read_csv(\"./results/blip5ep.csv\")\n",
    "bl20_result = read_csv(\"./results/bl20ep.csv\")"
   ]
  },
  {
   "cell_type": "code",
   "execution_count": null,
   "id": "a892a210-17e4-47be-8a54-24bb68edb7f8",
   "metadata": {},
   "outputs": [],
   "source": [
    "for k in true_id:\n",
    "    if k == '96442':\n",
    "        print(k, true_id[k])\n",
    "    if k in blip_result:\n",
    "        blip_result.update({k: true_id[k]})"
   ]
  },
  {
   "cell_type": "code",
   "execution_count": null,
   "id": "c791e0ec-cbde-464f-842a-5691b312fa6f",
   "metadata": {
    "scrolled": true
   },
   "outputs": [],
   "source": [
    "# eval_data"
   ]
  },
  {
   "cell_type": "code",
   "execution_count": 35,
   "id": "14cfe0e7-25fd-46b0-ad89-c268aa602758",
   "metadata": {},
   "outputs": [],
   "source": [
    "vilt_result = {}\n",
    "def read_csv2(filename):\n",
    "    file = open(filename)\n",
    "    csvreader = csv.reader(file)\n",
    "    header = []\n",
    "    header = next(csvreader)\n",
    "    vilt_result = {}\n",
    "    for row in csvreader:\n",
    "        vilt_result.update({row[0]: [row[1],row[2]]}) \n",
    "    return vilt_result\n",
    "    \n",
    "vilt_result = read_csv2(\"./results/vilt_ensemble.csv\")"
   ]
  },
  {
   "cell_type": "code",
   "execution_count": 42,
   "id": "3d72f778-4b3b-4afd-beb7-46e3b050a99a",
   "metadata": {},
   "outputs": [],
   "source": [
    "blipAug2 = read_csv(\"./results/blipAug31.csv\")\n",
    "blipGray2= read_csv(\"./results/blipGray2.csv\")\n",
    "vilt= read_csv(\"./results/vilt_ensemble.csv\")\n",
    "test = read_csv(\"./results/test.csv\")"
   ]
  },
  {
   "cell_type": "code",
   "execution_count": 45,
   "id": "c1e45183-1bd3-41f6-9a80-43e27e03570e",
   "metadata": {
    "scrolled": true
   },
   "outputs": [
    {
     "name": "stdout",
     "output_type": "stream",
     "text": [
      "101\n"
     ]
    },
    {
     "data": {
      "text/plain": [
       "170"
      ]
     },
     "execution_count": 45,
     "metadata": {},
     "output_type": "execute_result"
    }
   ],
   "source": [
    "count = 0\n",
    "true_ans = 0\n",
    "for id in eval_data:\n",
    "    image, text = get_data(id)\n",
    "    if text == \"What number is shown?\":\n",
    "        if test[id] == blipAug2[id]:\n",
    "            true_ans += 1\n",
    "            # print(id, \": True \", blipAug2[id])\n",
    "        # else:\n",
    "            # print(id, \": False \", blipAug2[id])\n",
    "        count += 1\n",
    "\n",
    "print(true_ans)\n",
    "count"
   ]
  },
  {
   "cell_type": "code",
   "execution_count": null,
   "id": "1441fe65-ba54-43d6-a252-f71caba46926",
   "metadata": {},
   "outputs": [],
   "source": [
    "## 99/170"
   ]
  },
  {
   "cell_type": "code",
   "execution_count": 37,
   "id": "4bded3c0-9cab-4d7e-b4ff-63eb1cadbb7f",
   "metadata": {},
   "outputs": [
    {
     "name": "stdout",
     "output_type": "stream",
     "text": [
      "True:  13.762677192687988\n",
      "False:  -0.10565970838069916\n",
      "AFalse:  -0.19564026594161987\n",
      "AFalse:  -6.258315086364746\n",
      "False:  5.291347503662109\n",
      "AFalse:  6.595821857452393\n",
      "AFalse:  3.9768478870391846\n",
      "AFalse:  -0.9381645917892456\n",
      "True:  14.527335166931152\n",
      "AFalse:  1.5711500644683838\n",
      "False:  0.24098752439022064\n",
      "AFalse:  -0.34161120653152466\n",
      "AFalse:  -2.648970127105713\n",
      "False:  11.300838470458984\n",
      "True:  13.517353057861328\n",
      "AFalse:  -4.8656768798828125\n",
      "AFalse:  3.1353724002838135\n",
      "True:  14.55045223236084\n",
      "True:  14.569816589355469\n",
      "True:  12.903050422668457\n",
      "True:  12.593175888061523\n",
      "AFalse:  -0.013706590980291367\n",
      "AFalse:  0.1866191327571869\n",
      "True:  -0.4000682532787323\n",
      "False:  -8.266329765319824\n",
      "AFalse:  -0.16811597347259521\n",
      "AFalse:  -6.460824489593506\n",
      "True:  12.765212059020996\n",
      "True:  11.127026557922363\n",
      "False:  -2.8132405281066895\n",
      "False:  10.419587135314941\n",
      "True:  9.019761085510254\n",
      "True:  13.378215789794922\n",
      "AFalse:  -2.9545698165893555\n",
      "False:  -1.0944095849990845\n",
      "True:  15.039958000183105\n",
      "AFalse:  -3.1417150497436523\n",
      "False:  -5.045257568359375\n",
      "AFalse:  4.3167266845703125\n",
      "True:  9.878917694091797\n",
      "AFalse:  6.739790439605713\n",
      "AFalse:  -3.2554895877838135\n",
      "False:  6.6551103591918945\n",
      "False:  12.289456367492676\n",
      "AFalse:  -3.1765217781066895\n",
      "False:  -5.724555492401123\n",
      "AFalse:  1.8887226581573486\n",
      "False:  12.721753120422363\n",
      "True:  10.586042404174805\n",
      "AFalse:  2.896606683731079\n",
      "False:  0.36239510774612427\n",
      "False:  -0.41494220495224\n",
      "True:  13.930408477783203\n",
      "True:  15.500444412231445\n",
      "False:  10.408624649047852\n",
      "AFalse:  -3.3099727630615234\n",
      "AFalse:  -3.9312055110931396\n",
      "False:  -2.653486490249634\n",
      "AFalse:  -0.5885488390922546\n",
      "AFalse:  -0.11442996561527252\n",
      "True:  14.96144962310791\n",
      "False:  0.7613309025764465\n",
      "AFalse:  -1.7387275695800781\n",
      "True:  7.245560169219971\n",
      "True:  0.5031003952026367\n",
      "False:  6.551284313201904\n",
      "AFalse:  4.536067962646484\n",
      "True:  11.501030921936035\n",
      "AFalse:  -0.5160870552062988\n",
      "AFalse:  0.8163405060768127\n",
      "False:  4.931852340698242\n",
      "AFalse:  -0.40165382623672485\n",
      "False:  -5.821341514587402\n",
      "True:  15.158849716186523\n",
      "AFalse:  -1.6484464406967163\n",
      "AFalse:  4.883209705352783\n",
      "True:  12.954054832458496\n",
      "True:  3.8189194202423096\n",
      "AFalse:  -0.06412076205015182\n",
      "False:  8.827804565429688\n",
      "AFalse:  -7.2092485427856445\n",
      "False:  12.334820747375488\n",
      "False:  1.0610800981521606\n",
      "False:  9.960127830505371\n",
      "AFalse:  4.770348072052002\n",
      "True:  15.31754207611084\n",
      "True:  14.572196960449219\n",
      "False:  12.955543518066406\n",
      "True:  9.882883071899414\n",
      "False:  12.369307518005371\n",
      "False:  -5.64213228225708\n",
      "False:  0.7548696398735046\n",
      "True:  12.417268753051758\n",
      "AFalse:  -2.228860378265381\n",
      "False:  -6.153527736663818\n",
      "True:  14.045361518859863\n",
      "AFalse:  1.9984685182571411\n",
      "True:  13.845866203308105\n",
      "False:  -4.944980621337891\n",
      "True:  13.346465110778809\n",
      "True:  13.53376293182373\n",
      "AFalse:  -5.186241149902344\n",
      "True:  12.641196250915527\n",
      "True:  14.477372169494629\n",
      "AFalse:  -2.7998037338256836\n",
      "False:  2.65409779548645\n",
      "AFalse:  1.445371150970459\n",
      "True:  7.895102500915527\n",
      "AFalse:  -0.5624291300773621\n",
      "True:  11.130306243896484\n",
      "True:  15.538260459899902\n",
      "False:  7.143003940582275\n",
      "False:  0.8313506245613098\n",
      "AFalse:  0.9488883018493652\n",
      "AFalse:  -1.7438462972640991\n",
      "False:  6.891796588897705\n",
      "True:  15.664222717285156\n",
      "AFalse:  2.878335475921631\n",
      "AFalse:  -7.2208333015441895\n",
      "False:  11.651280403137207\n",
      "False:  9.031973838806152\n",
      "True:  15.1487455368042\n",
      "AFalse:  5.289457321166992\n",
      "False:  10.490232467651367\n",
      "AFalse:  -1.2780358791351318\n",
      "AFalse:  -3.719507932662964\n",
      "False:  1.8671984672546387\n",
      "False:  6.949562072753906\n",
      "True:  15.694620132446289\n",
      "AFalse:  2.797163963317871\n",
      "False:  7.829883098602295\n",
      "AFalse:  -2.4289135932922363\n",
      "AFalse:  -0.5072194933891296\n",
      "AFalse:  4.215991020202637\n",
      "AFalse:  -1.928928017616272\n",
      "False:  13.38065242767334\n",
      "AFalse:  4.3025031089782715\n",
      "False:  11.173930168151855\n",
      "False:  1.993100643157959\n",
      "False:  5.652865409851074\n",
      "AFalse:  -4.5665717124938965\n",
      "AFalse:  7.593268871307373\n",
      "False:  -0.6752249598503113\n",
      "False:  3.283306121826172\n",
      "AFalse:  2.2066848278045654\n",
      "AFalse:  4.260194778442383\n",
      "True:  14.846176147460938\n",
      "AFalse:  4.757862091064453\n",
      "True:  15.10166072845459\n",
      "False:  10.956192970275879\n",
      "AFalse:  11.13929557800293\n",
      "False:  -2.688444137573242\n",
      "True:  -7.034067630767822\n",
      "True:  12.927318572998047\n",
      "True:  15.52491569519043\n",
      "False:  0.9247164130210876\n",
      "True:  14.177607536315918\n",
      "False:  -3.5522422790527344\n",
      "False:  7.004332065582275\n",
      "AFalse:  1.0278290510177612\n",
      "True:  3.3527684211730957\n",
      "False:  8.191422462463379\n",
      "False:  6.09191370010376\n",
      "False:  -3.002253770828247\n",
      "False:  -2.2710399627685547\n",
      "AFalse:  -1.8591563701629639\n",
      "True:  9.633932113647461\n",
      "True:  15.217954635620117\n",
      "True:  9.789118766784668\n",
      "False:  9.031700134277344\n",
      "False:  14.87427806854248\n",
      "False:  0.9042237401008606\n",
      "False:  12.31060791015625\n",
      "AFalse:  -0.4889914393424988\n",
      "True:  11.836668968200684\n",
      "False:  7.756443023681641\n",
      "AFalse:  -3.216489553451538\n",
      "AFalse:  -1.4885380268096924\n",
      "AFalse:  3.106396198272705\n",
      "True:  14.401362419128418\n",
      "False:  -1.6557644605636597\n",
      "AFalse:  0.035673294216394424\n",
      "AFalse:  4.311026573181152\n",
      "False:  2.8665173053741455\n",
      "True:  11.921415328979492\n",
      "True:  14.874865531921387\n",
      "True:  13.471102714538574\n",
      "AFalse:  3.8875865936279297\n",
      "True:  8.50818920135498\n",
      "AFalse:  -6.547404766082764\n",
      "True:  11.139608383178711\n",
      "AFalse:  -0.3879750967025757\n",
      "Dup True:  3430\n",
      "Dup False:  16\n",
      "Vilt True:  57\n",
      "Blip True:  63\n",
      "VilT&Blip False:  72\n",
      "3638\n"
     ]
    }
   ],
   "source": [
    "fdup = 0\n",
    "tdup = 0\n",
    "tvilt = 0\n",
    "tblipAug2 = 0\n",
    "false_id = 0\n",
    "for id in eval_data:\n",
    "    image, text = get_data(id)\n",
    "    if vilt[id] == blipAug2[id]:\n",
    "        if vilt[id] != test[id]:\n",
    "            fdup += 1\n",
    "        else:\n",
    "            tdup += 1\n",
    "    elif vilt[id] != blipAug2[id]:\n",
    "        if vilt[id] != test[id] and blipAug2[id] == test[id]:\n",
    "            tblipAug2 += 1\n",
    "            print(\"False: \", vilt_result[id][1])\n",
    "        elif vilt[id] == test[id] and blipAug2[id] != test[id]:\n",
    "            print(\"True: \", vilt_result[id][1])\n",
    "            tvilt += 1\n",
    "        else:\n",
    "            false_id += 1\n",
    "            print(\"AFalse: \", vilt_result[id][1])\n",
    "            \n",
    "print(\"Dup True: \", tdup)\n",
    "print(\"Dup False: \", fdup)\n",
    "print(\"Vilt True: \", tvilt)\n",
    "print(\"Blip True: \", tblipAug2)\n",
    "print(\"VilT&Blip False: \", false_id)\n",
    "print(tdup+fdup+tvilt+tblipAug2+false_id)"
   ]
  },
  {
   "cell_type": "markdown",
   "id": "96a898cd-fcd7-4c0c-a8da-466e795a8037",
   "metadata": {},
   "source": [
    "## "
   ]
  }
 ],
 "metadata": {
  "kernelspec": {
   "display_name": "Python 3 (ipykernel)",
   "language": "python",
   "name": "python3"
  },
  "language_info": {
   "codemirror_mode": {
    "name": "ipython",
    "version": 3
   },
   "file_extension": ".py",
   "mimetype": "text/x-python",
   "name": "python",
   "nbconvert_exporter": "python",
   "pygments_lexer": "ipython3",
   "version": "3.10.13"
  }
 },
 "nbformat": 4,
 "nbformat_minor": 5
}
