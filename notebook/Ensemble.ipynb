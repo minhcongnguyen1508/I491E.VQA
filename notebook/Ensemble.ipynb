{
 "cells": [
  {
   "cell_type": "code",
   "execution_count": 22,
   "id": "aa0562de-4e9d-444d-a080-46a4cdf579fa",
   "metadata": {},
   "outputs": [],
   "source": [
    "from datasets import load_dataset\n",
    "from transformers import (\n",
    "    ViltProcessor,\n",
    "    DefaultDataCollator,\n",
    "    ViltForQuestionAnswering,\n",
    "    TrainingArguments,\n",
    "    Trainer,\n",
    ")\n",
    "import torch\n",
    "from PIL import Image"
   ]
  },
  {
   "cell_type": "code",
   "execution_count": 23,
   "id": "81f072f2-f500-4712-be5c-efa95692acfb",
   "metadata": {},
   "outputs": [],
   "source": [
    "processor = ViltProcessor.from_pretrained(\"model/baseline20epoch/checkpoint-68000\")\n",
    "model = ViltForQuestionAnswering.from_pretrained(\"model/baseline20epoch/checkpoint-68000\")"
   ]
  },
  {
   "cell_type": "code",
   "execution_count": 24,
   "id": "4fc88b3e-3d4e-4348-aca2-351b19a3fd60",
   "metadata": {},
   "outputs": [],
   "source": [
    "import os\n",
    "from os import listdir\n",
    "from os.path import isfile, join\n",
    "import json\n",
    "\n",
    "# prepare image + question\n",
    "eval_dir = os.path.abspath(\"data/test_data/test_data/\")\n",
    "eval_data = {}\n",
    "for it in listdir(eval_dir):\n",
    "    eval_data.update({it: []})\n",
    "    for f in listdir(join(eval_dir, it)):\n",
    "        file = join(eval_dir, it, f)\n",
    "        eval_data[it].append(file)\n",
    "\n",
    "def get_data(idx):\n",
    "    img_url = eval_data[idx][0]\n",
    "    image = Image.open(img_url)\n",
    "    text_url = eval_data[idx][1]\n",
    "    textf = open(text_url)\n",
    "    # returns JSON object as \n",
    "    # a dictionary\n",
    "    data = json.load(textf)\n",
    "    text = data[\"question\"]\n",
    "    return image, text\n"
   ]
  },
  {
   "cell_type": "code",
   "execution_count": 26,
   "id": "9d900325-defd-44f2-ae74-1b4974e9b2f9",
   "metadata": {
    "scrolled": true
   },
   "outputs": [],
   "source": [
    "import csv\n",
    "\n",
    "# # prepare inputs\n",
    "result = {}\n",
    "for id in eval_data:\n",
    "    image, text = get_data(id)\n",
    "    encoding = processor(image, text, return_tensors=\"pt\")\n",
    "    # forward pass\n",
    "    outputs = model(**encoding)\n",
    "    logits = outputs.logits\n",
    "    idx = logits.argmax(-1).item()\n",
    "    result.update({id: [model.config.id2label[idx], logits[0][idx].item()]})\n",
    "\n",
    "\n",
    "with open('results/vilt.csv', 'w', newline='') as csvfile:\n",
    "    fieldnames = ['ID', 'Label', 'conf_score']\n",
    "    writer = csv.DictWriter(csvfile, fieldnames=fieldnames)\n",
    "\n",
    "    writer.writeheader()\n",
    "    for idx in result:\n",
    "        writer.writerow({'ID': idx, 'Label': result[idx][0], 'conf_score': result[idx][1]})"
   ]
  },
  {
   "cell_type": "code",
   "execution_count": 27,
   "id": "d607c3fa-1426-4238-a0b7-60953473863f",
   "metadata": {},
   "outputs": [],
   "source": [
    "result = {}\n",
    "def read_csv2(filename):\n",
    "    file = open(filename)\n",
    "    csvreader = csv.reader(file)\n",
    "    header = []\n",
    "    header = next(csvreader)\n",
    "    results = {}\n",
    "    for row in csvreader:\n",
    "        results.update({row[0]: [row[1],row[2]]}) \n",
    "    return results\n",
    "    \n",
    "result = read_csv2(\"./results/vilt.csv\")"
   ]
  },
  {
   "cell_type": "code",
   "execution_count": 28,
   "id": "649b0069-6587-465d-a0af-7d585af7a601",
   "metadata": {},
   "outputs": [],
   "source": [
    "import csv\n",
    "def read_csv(filename):\n",
    "    file = open(filename)\n",
    "    csvreader = csv.reader(file)\n",
    "    header = []\n",
    "    header = next(csvreader)\n",
    "    results = {}\n",
    "    for row in csvreader:\n",
    "        results.update({row[0]: row[1]}) \n",
    "    return results"
   ]
  },
  {
   "cell_type": "code",
   "execution_count": 29,
   "id": "32ffddef-36a8-4c05-8646-29c7f25018c2",
   "metadata": {},
   "outputs": [],
   "source": [
    "def write2csv(result, output):\n",
    "    import csv\n",
    "    with open(output, 'w', newline='') as csvfile:\n",
    "        fieldnames = ['ID', 'Label']\n",
    "        writer = csv.DictWriter(csvfile, fieldnames=fieldnames)\n",
    "\n",
    "        writer.writeheader()\n",
    "        for idx in result:\n",
    "            writer.writerow({'ID': idx, 'Label': result[idx]})"
   ]
  },
  {
   "cell_type": "code",
   "execution_count": 30,
   "id": "e8fa78bf-3823-4064-8f03-d6da93e4fcdd",
   "metadata": {},
   "outputs": [],
   "source": [
    "blipAug2 = read_csv(\"./results/blipAug31.csv\")\n",
    "vilt= read_csv(\"./results/vilt.csv\")\n"
   ]
  },
  {
   "cell_type": "code",
   "execution_count": 31,
   "id": "de30806e-3c4d-4d92-9874-7c8c354efa57",
   "metadata": {},
   "outputs": [],
   "source": [
    "ensemble_result = {}\n",
    "\n",
    "for id in eval_data:\n",
    "    image, text = get_data(id)\n",
    "    if text == \"What number is shown?\":\n",
    "        ensemble_result.update({id: blipAug2[id]})\n",
    "        # print(id, \": \", blipAug2[id])\n",
    "    # elif text == \"How many shapes are green?\":\n",
    "    #     ensemble_result.update({id: vilt[id]})\n",
    "    else:\n",
    "        if float(result[id][1]) >= 12.5:\n",
    "            ensemble_result.update({id: vilt[id]})\n",
    "        else:\n",
    "            ensemble_result.update({id: blipAug2[id]})\n"
   ]
  },
  {
   "cell_type": "code",
   "execution_count": 32,
   "id": "d42e95ac-499c-4374-ade4-994599ae397c",
   "metadata": {},
   "outputs": [],
   "source": [
    "write2csv(ensemble_result, \"results/ensemble.csv\")"
   ]
  },
  {
   "cell_type": "code",
   "execution_count": 19,
   "id": "3e6c1e24-85c0-4390-9333-12ade1becb64",
   "metadata": {},
   "outputs": [
    {
     "data": {
      "text/plain": [
       "{}"
      ]
     },
     "execution_count": 19,
     "metadata": {},
     "output_type": "execute_result"
    }
   ],
   "source": [
    "result"
   ]
  }
 ],
 "metadata": {
  "kernelspec": {
   "display_name": "Python 3 (ipykernel)",
   "language": "python",
   "name": "python3"
  },
  "language_info": {
   "codemirror_mode": {
    "name": "ipython",
    "version": 3
   },
   "file_extension": ".py",
   "mimetype": "text/x-python",
   "name": "python",
   "nbconvert_exporter": "python",
   "pygments_lexer": "ipython3",
   "version": "3.10.13"
  }
 },
 "nbformat": 4,
 "nbformat_minor": 5
}
